{
 "cells": [
  {
   "cell_type": "code",
   "execution_count": null,
   "metadata": {
    "collapsed": true
   },
   "outputs": [],
   "source": [
    "import numpy as np\n",
    "import tensorflow as tf\n",
    "from collections import OrderedDict"
   ]
  },
  {
   "cell_type": "code",
   "execution_count": null,
   "metadata": {
    "collapsed": true
   },
   "outputs": [],
   "source": [
    "def normalization_parameters(fn):\n",
    "    from osgeo import gdal\n",
    "    S = gdal.Open(fn)\n",
    "    mns = []\n",
    "    sds = []\n",
    "    maxs = []\n",
    "    \n",
    "    for b in range(S.RasterCount):\n",
    "        B = S.GetRasterBand(b+1)\n",
    "        mn, sd = B.ComputeStatistics(1)[2:4]\n",
    "        mns.append(mn)\n",
    "        sds.append(sd)\n",
    "        maxs.append(B.GetMaximum())\n",
    "        \n",
    "    return([mns, sds, maxs])\n",
    "\n",
    "def sample_1s2(filebase, batchsize, tilesize=128, normalize=False, flattened=False):\n",
    "    import numpy as np\n",
    "    from osgeo import gdal   \n",
    "    \n",
    "    if type(filebase) == str:\n",
    "        multires = False\n",
    "        S2_10 = gdal.Open(filebase)\n",
    "        if normalize:\n",
    "            maxima_10 = np.array(normalization_parameters(filebase)[2])\n",
    "        \n",
    "    elif type(filebase) == list:#interpreted as multiple resolutions\n",
    "        tilesize = tilesize/2\n",
    "        multires = True\n",
    "        S2_10 = gdal.Open(filebase[0])\n",
    "        S2_20 = gdal.Open(filebase[1])\n",
    "        if normalize:\n",
    "            maxima_10 = np.array(normalization_parameters(filebase[0])[2])\n",
    "            maxima_20 = np.array(normalization_parameters(filebase[1])[2])\n",
    "    \n",
    "    samples_10 = []\n",
    "    \n",
    "    if multires:        \n",
    "        samples_20 = []\n",
    "        \n",
    "        while len(samples_10) < batchsize:\n",
    "            RX = np.random.randint(S2_20.RasterXSize-tilesize,size=1)\n",
    "            RY = np.random.randint(S2_20.RasterYSize-tilesize,size=1)\n",
    "            \n",
    "            A_10 = np.transpose(S2_10.ReadAsArray(RX[0] * 2, RY[0] * 2, tilesize * 2, tilesize * 2)).astype(np.float32)\n",
    "            A_20 = np.transpose(S2_20.ReadAsArray(RX[0], RY[0], tilesize, tilesize)).astype(np.float32)\n",
    "            \n",
    "            if (np.min(A_10) > 0) & (np.min(A_20) > 0):\n",
    "                if normalize:\n",
    "                    A_10 = A_10 / maxima_10\n",
    "                    A_20 = A_20 / maxima_20\n",
    "                if flattened:\n",
    "                    A_10 = A_10.flatten()\n",
    "                    A_20 = A_20.flatten()\n",
    "                    \n",
    "                samples_10.append(A_10)\n",
    "                samples_20.append(A_20)\n",
    "                \n",
    "        return([np.array(samples_10), np.array(samples_20)])\n",
    "                \n",
    "    else:\n",
    "        while len(samples_10) < batchsize:\n",
    "            RX = np.random.randint(S2_10.RasterXSize-tilesize,size=1)\n",
    "            RY = np.random.randint(S2_10.RasterYSize-tilesize,size=1)\n",
    "            \n",
    "            A_10 = np.transpose(S2_10.ReadAsArray(RX[0], RY[0], tilesize, tilesize).astype(np.float32))\n",
    "            \n",
    "            if np.min(A_10) > 0:            \n",
    "                if normalize:\n",
    "                    A_10 = A_10 / maxima_10\n",
    "                if flattened:\n",
    "                    A_10 = A_10.flatten()\n",
    "                    \n",
    "                samples_10.append(A_10)\n",
    "                \n",
    "        return(np.array(samples_10))"
   ]
  },
  {
   "cell_type": "code",
   "execution_count": null,
   "metadata": {
    "collapsed": true
   },
   "outputs": [],
   "source": [
    "len_edge = 32\n",
    "num_channels_10 = 4\n",
    "num_channels_20 = 6\n",
    "num_channels_S1 = 2\n",
    "\n",
    "fn_10 = \n",
    "fn_20 = \n",
    "fn_S1 = "
   ]
  },
  {
   "cell_type": "code",
   "execution_count": null,
   "metadata": {
    "collapsed": true
   },
   "outputs": [],
   "source": [
    "def convolute(inp, name, kernel_size = 3, out_chans = 64, sz = 1):\n",
    "    inp_chans = inp.get_shape().as_list()[-1]\n",
    "    with tf.variable_scope(name) as scope:\n",
    "        W = tf.get_variable('weights', [kernel_size, kernel_size, inp_chans, out_chans], initializer=tf.contrib.layers.xavier_initializer_conv2d(), regularizer=tf.contrib.layers.l2_regularizer(0.0005))#, name='weights')\n",
    "        b = tf.get_variable('biases', [out_chans], initializer=tf.constant_initializer(0.0), regularizer=None, dtype=tf.float32)\n",
    "        conv = tf.nn.conv2d(inp, W, strides=[1, sz, sz, 1], padding='SAME')\n",
    "        conv = tf.contrib.layers.batch_norm(conv, scope=scope) # train?\n",
    "        conv = tf.nn.relu(conv+b)\n",
    "#        conv = tf.nn.dropout(conv, 0.8)\n",
    "    return conv\n",
    "\n",
    "def pooling(inp, name, factor=2):\n",
    "    pool = tf.nn.max_pool(inp, ksize=[1, factor, factor, 1], strides=[1, factor, factor, 1], padding='SAME', name=name)\n",
    "    return pool"
   ]
  },
  {
   "cell_type": "code",
   "execution_count": null,
   "metadata": {
    "collapsed": true
   },
   "outputs": [],
   "source": [
    "#with tf.name_scope('Input'):\n",
    "#    X = tf.placeholder(tf.float32, shape=([None, len_edge, len_edge, num_channels]))#bs\n",
    "#    if num_channels == 2:\n",
    "#        X_show = tf.concat([X, tf.expand_dims(X[:, :, :, 1], 3)], axis=3)\n",
    "#        tf.summary.image('input_images', X_show, max_outputs=tb_imgs_to_display)\n",
    "#    elif num_channels > 3:\n",
    "#        tf.summary.image('input_images', X[:, :, :, 0:3], max_outputs=tb_imgs_to_display)\n",
    "#    else:\n",
    "#        tf.summary.image('input_images', X, max_outputs=tb_imgs_to_display)\n",
    "        \n",
    "        \n",
    "X_10 = tf.placeholder(tf.float32, shape=([None, len_edge, len_edge, num_channels_10]))\n",
    "X_20 = tf.placeholder(tf.float32, shape=([None, len_edge / 2, len_edge / 2, num_channels_20]))\n",
    "X_S1 = tf.placeholder(tf.float32, shape=([None, len_edge, len_edge, num_channels_S1]))\n",
    "\n",
    "dw_h_convs = OrderedDict()\n",
    "up_h_convs = OrderedDict()\n",
    "\n",
    "X_20_c = convolute(X_20, layer_name('conv'), 3, outer, sz = 1)\n",
    "X_20_c = convolute(X_20_c, layer_name('conv'), 3, outer, sz = 1)\n",
    "\n",
    "X_10_c = convolute(X_10, layer_name('conv'), 3, outer, sz = 1)\n",
    "X_10_c = convolute(X_10_c,layer_name('conv'), 3, outer, sz = 1)\n",
    "dw_h_convs[0] = pooling(dw_h_convs[0], 'pool1')\n",
    "\n",
    "\n",
    "dw_h_convs[1] = tf.concat([dw_h_convs[0], X_20_c], 3)\n",
    "\n",
    "dw_h_convs[1] = convolute(dw_h_convs[1],layer_name('conv'),3,outer)\n",
    "dw_h_convs[1] = convolute(dw_h_convs[1],layer_name('conv'),3,outer)\n",
    "dw_h_convs[2] = pooling(dw_h_convs[1], 'pool2')\n",
    "\n",
    "dw_h_convs[2] = convolute(dw_h_convs[2],layer_name('conv'),3,middle)\n",
    "dw_h_convs[2] = convolute(dw_h_convs[2],layer_name('conv'),3,middle)\n",
    "dw_h_convs[3] = pooling(dw_h_convs[2], 'pool3')\n",
    "\n",
    "dw_h_convs[3] = convolute(dw_h_convs[3],layer_name('conv'),3,inner)\n",
    "dw_h_convs[3] = convolute(dw_h_convs[3],layer_name('conv'),3,inner)\n",
    "dw_h_convs[4] = pooling(dw_h_convs[3], 'pool4')\n",
    "\n",
    "dw_h_convs[4] = convolute(dw_h_convs[4],layer_name('conv'),3,innest)\n",
    "dw_h_convs[4] = convolute(dw_h_convs[4],layer_name('conv'),3,inner)\n",
    "\n",
    "\n",
    "\n",
    "up_h_convs[0] = tf.image.resize_images(dw_h_convs[4], [ dw_h_convs[4].get_shape().as_list()[1]*2, \n",
    "                                                            dw_h_convs[4].get_shape().as_list()[2]*2] )\n",
    "up_h_convs[0] = tf.concat([up_h_convs[1], dw_h_convs[3] ],3 )\n",
    "up_h_convs[0] = convolute(up_h_convs[0], layer_name('conv'), 3, inner)\n",
    "up_h_convs[0] = convolute(up_h_convs[0], layer_name('conv'), 3, middle)\n",
    "\n",
    "up_h_convs[1] = tf.image.resize_images(up_h_convs[0], [ up_h_convs[0].get_shape().as_list()[1]*2, \n",
    "                                                            up_h_convs[0].get_shape().as_list()[2]*2] ) \n",
    "up_h_convs[1] = tf.concat([up_h_convs[1], dw_h_convs[2] ],3 ) \n",
    "up_h_convs[1] = convolute(up_h_convs[1], layer_name('conv'), 3, middle)\n",
    "up_h_convs[1] = convolute(up_h_convs[1], layer_name('conv'), 3, outer)\n",
    "\n",
    "up_h_convs[2] = tf.image.resize_images(up_h_convs[1], [ up_h_convs[1].get_shape().as_list()[1]*2, \n",
    "                                                            up_h_convs[1].get_shape().as_list()[2]*2] )\n",
    "up_h_convs[2] = tf.concat([up_h_convs[2], dw_h_convs[1] ],3 ) \n",
    "up_h_convs[2] = convolute(up_h_convs[2], layer_name('conv'), 3, outer)\n",
    "up_h_convs[2] = convolute(up_h_convs[2], layer_name('conv'), 3, outer)\n",
    "\n",
    "up_h_convs[3] = tf.image.resize_images(up_h_convs[2], [ up_h_convs[2].get_shape().as_list()[2]*2, \n",
    "                                                            up_h_convs[2].get_shape().as_list()[2]*2] )\n",
    "up_h_convs[3] = tf.concat([up_h_convs[3], X_10_c],3 ) \n",
    "up_h_convs[3] = convolute(up_h_convs[3], layer_name('conv'), 3, outer)\n",
    "up_h_convs[3] = convolute(up_h_convs[3], layer_name('conv'), 3, outer)\n",
    "\n",
    "W_rec = tf.get_variable('weights_rec', [1, 1, outer, num_channels_S1], initializer=tf.contrib.layers.xavier_initializer_conv2d(), regularizer=False)#, name='weights')\n",
    "b_rec = tf.get_variable('biases_rec', [num_channels_S1], initializer=tf.constant_initializer(0.0), regularizer=None, dtype=tf.float32)\n",
    "reconstruction = tf.nn.sigmoid(tf.nn.conv2d(up_h_convs[3], W_rec, strides=[1, 1, 1, 1], padding='SAME') + b_rec)"
   ]
  },
  {
   "cell_type": "code",
   "execution_count": null,
   "metadata": {
    "collapsed": true
   },
   "outputs": [],
   "source": [
    "X_flat = tf.contrib.layers.flatten(X_S1)\n",
    "R_flat = tf.contrib.layers.flatten(reconstruction)\n",
    "log_likelihood = tf.reduce_sum(X_flat*tf.log(R_flat + 1e-9)+(1 - X_flat)*tf.log(1 - R_flat + 1e-9), reduction_indices=1)\n",
    "\n",
    "tf.summary.scalar('LogLike', tf.reduce_mean(log_likelihood))\n",
    "\n",
    "optimizer_likeli = tf.train.AdamOptimizer(1e-4).minimize(-log_likelihood)"
   ]
  },
  {
   "cell_type": "code",
   "execution_count": null,
   "metadata": {
    "collapsed": true
   },
   "outputs": [],
   "source": [
    "merged_summary = tf.summary.merge_all()\n",
    "init = tf.global_variables_initializer()\n",
    "sess = tf.InteractiveSession()\n",
    "sess.run(init)\n",
    "saver = tf.train.Saver()\n",
    "train_writer = tf.summary.FileWriter(trainlogpath)\n",
    "valid_writer = tf.summary.FileWriter(testlogpath)\n",
    "#gen_writer = tf.summary.FileWriter(genlogpath)\n",
    "train_writer.add_graph(sess.graph)"
   ]
  },
  {
   "cell_type": "code",
   "execution_count": null,
   "metadata": {
    "collapsed": true
   },
   "outputs": [],
   "source": [
    "all_10, all_20, all_S1 = sample(...)\n",
    "#X_all = sample_1s2(fn3, train_size, tilesize=len_edge, normalize=True, flattened=False)\n",
    "#x_valid = sample_1s2(fn3, valid_size, tilesize=len_edge, normalize=True, flattened=False)"
   ]
  },
  {
   "cell_type": "markdown",
   "metadata": {},
   "source": [
    "step = bs\n",
    "ep = 0\n",
    "for ep in range(epochs):\n",
    "#    print ep\n",
    "    x_batch = X_all[step-bs:step]\n",
    "#    x1_batch = X1_all[step-bs:step]\n",
    "#    x2_batch = X2_all[step-bs:step]\n",
    "    \n",
    "    if (ep%recording_interval == 0):\n",
    "        vvv, s = sess.run([validator, merged_summary], feed_dict={X: x_valid})\n",
    "#        vvv, s = sess.run([validator, merged_summary], feed_dict={X: X1_valid, X2: X2_valid})\n",
    "        valid_writer.add_summary(s, ep)\n",
    "        \n",
    "    _, s = sess.run([optimizer, merged_summary], feed_dict={X: x_batch})\n",
    "#    _, s = sess.run([optimizer, merged_summary], feed_dict={X: x1_batch, X2: x2_batch})\n",
    "    \n",
    "    if (ep%recording_interval == 0):\n",
    "        train_writer.add_summary(s, ep)\n",
    "        \n",
    "    step += bs\n",
    "    \n",
    "    if step == train_size:\n",
    "        step = bs"
   ]
  },
  {
   "cell_type": "code",
   "execution_count": null,
   "metadata": {
    "collapsed": true
   },
   "outputs": [],
   "source": []
  }
 ],
 "metadata": {
  "kernelspec": {
   "display_name": "Python 2",
   "language": "python",
   "name": "python2"
  },
  "language_info": {
   "codemirror_mode": {
    "name": "ipython",
    "version": 2
   },
   "file_extension": ".py",
   "mimetype": "text/x-python",
   "name": "python",
   "nbconvert_exporter": "python",
   "pygments_lexer": "ipython2",
   "version": "2.7.13"
  }
 },
 "nbformat": 4,
 "nbformat_minor": 2
}
