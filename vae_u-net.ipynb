{
 "cells": [
  {
   "cell_type": "code",
   "execution_count": 1,
   "metadata": {
    "collapsed": true
   },
   "outputs": [],
   "source": [
    "import numpy as np\n",
    "import tensorflow as tf\n",
    "from collections import OrderedDict"
   ]
  },
  {
   "cell_type": "code",
   "execution_count": 2,
   "metadata": {
    "collapsed": true
   },
   "outputs": [],
   "source": [
    "fn0 = '/home/ron/Downloads/lil_s2.tif'\n",
    "\n",
    "attempt=3\n",
    "\n",
    "#multires_filters = 64 # if at all\n",
    "#multires_channels = 6 # if at all\n",
    "\n",
    "multires_filters = 0\n",
    "\n",
    "num_channels = 4\n",
    "len_edge = 64 # of higher resolution image\n",
    "bs = 16\n",
    "\n",
    "n_filters = [num_channels, 128, 128, 128, 256, 256]\n",
    "h_dim = 128\n",
    "latent_dim = 10 * 10\n",
    "\n",
    "inedge = len_edge / (2 ** (len(n_filters)-1))\n",
    "\n",
    "if multires_filters > 0:\n",
    "    inedge = len_edge / (2 ** (len(n_filters)))\n",
    "\n",
    "\n",
    "latvisdim = int(np.sqrt(latent_dim))\n",
    "tb_imgs_to_display = 4\n",
    "\n",
    "train_size = 320\n",
    "valid_size = 16\n",
    "\n",
    "recording_interval = 400\n",
    "epochs = 1000000\n",
    "\n",
    "testlogpath = './vae_logs/test/' + str(attempt)\n",
    "trainlogpath = './vae_logs/train/' + str(attempt)"
   ]
  },
  {
   "cell_type": "code",
   "execution_count": 3,
   "metadata": {
    "collapsed": true
   },
   "outputs": [],
   "source": [
    "def normalization_parameters(fn):\n",
    "    from osgeo import gdal\n",
    "    S = gdal.Open(fn)\n",
    "    mns = []\n",
    "    sds = []\n",
    "    maxs = []\n",
    "    \n",
    "    for b in range(S.RasterCount):\n",
    "        B = S.GetRasterBand(b+1)\n",
    "        mn, sd = B.ComputeStatistics(1)[2:4]\n",
    "        mns.append(mn)\n",
    "        sds.append(sd)\n",
    "        maxs.append(B.GetMaximum())\n",
    "        \n",
    "    return([mns, sds, maxs])\n",
    "\n",
    "def sample_1s2(filebase, batchsize, tilesize=128, normalize=False, flattened=False):\n",
    "    import numpy as np\n",
    "    from osgeo import gdal   \n",
    "    \n",
    "    if type(filebase) == str:\n",
    "        multires = False\n",
    "        S2_10 = gdal.Open(filebase)\n",
    "        if normalize:\n",
    "            maxima_10 = np.array(normalization_parameters(filebase)[2])\n",
    "        \n",
    "    elif type(filebase) == list:#interpreted as multiple resolutions\n",
    "        tilesize = tilesize/2\n",
    "        multires = True\n",
    "        S2_10 = gdal.Open(filebase[0])\n",
    "        S2_20 = gdal.Open(filebase[1])\n",
    "        if normalize:\n",
    "            maxima_10 = np.array(normalization_parameters(filebase[0])[2])\n",
    "            maxima_20 = np.array(normalization_parameters(filebase[1])[2])\n",
    "    \n",
    "    samples_10 = []\n",
    "    \n",
    "    if multires:        \n",
    "        samples_20 = []\n",
    "        \n",
    "        while len(samples_10) < batchsize:\n",
    "            RX = np.random.randint(S2_20.RasterXSize-tilesize,size=1)\n",
    "            RY = np.random.randint(S2_20.RasterYSize-tilesize,size=1)\n",
    "            \n",
    "            A_10 = np.transpose(S2_10.ReadAsArray(RX[0] * 2, RY[0] * 2, tilesize * 2, tilesize * 2)).astype(np.float32)\n",
    "            A_20 = np.transpose(S2_20.ReadAsArray(RX[0], RY[0], tilesize, tilesize)).astype(np.float32)\n",
    "            \n",
    "            if (np.min(A_10) > 0) & (np.min(A_20) > 0):\n",
    "                if normalize:\n",
    "                    A_10 = A_10 / maxima_10\n",
    "                    A_20 = A_20 / maxima_20\n",
    "                if flattened:\n",
    "                    A_10 = A_10.flatten()\n",
    "                    A_20 = A_20.flatten()\n",
    "                    \n",
    "                samples_10.append(A_10)\n",
    "                samples_20.append(A_20)\n",
    "                \n",
    "        return([np.array(samples_10), np.array(samples_20)])\n",
    "                \n",
    "    else:\n",
    "        while len(samples_10) < batchsize:\n",
    "            RX = np.random.randint(S2_10.RasterXSize-tilesize,size=1)\n",
    "            RY = np.random.randint(S2_10.RasterYSize-tilesize,size=1)\n",
    "            \n",
    "            A_10 = np.transpose(S2_10.ReadAsArray(RX[0], RY[0], tilesize, tilesize).astype(np.float32))\n",
    "            \n",
    "            if np.min(A_10) > 0:            \n",
    "                if normalize:\n",
    "                    A_10 = A_10 / maxima_10\n",
    "                if flattened:\n",
    "                    A_10 = A_10.flatten()\n",
    "                    \n",
    "                samples_10.append(A_10)\n",
    "                \n",
    "        return(np.array(samples_10))"
   ]
  },
  {
   "cell_type": "code",
   "execution_count": 4,
   "metadata": {
    "collapsed": false
   },
   "outputs": [],
   "source": [
    "layer_name_dict = {}\n",
    "def layer_name(base_name):\n",
    "    if base_name not in layer_name_dict:\n",
    "        layer_name_dict[base_name] = 0\n",
    "    layer_name_dict[base_name] += 1\n",
    "    name = base_name + str(layer_name_dict[base_name])\n",
    "    return name"
   ]
  },
  {
   "cell_type": "code",
   "execution_count": 5,
   "metadata": {
    "collapsed": false
   },
   "outputs": [],
   "source": [
    "def convolute(inp, name, kernel_size = 3, out_chans = 64, sz = 1):\n",
    "    inp_chans = inp.get_shape().as_list()[-1]\n",
    "    with tf.variable_scope(name) as scope:\n",
    "        W = tf.get_variable('weights', [kernel_size, kernel_size, inp_chans, out_chans], initializer=tf.contrib.layers.xavier_initializer_conv2d(), regularizer=tf.contrib.layers.l2_regularizer(0.0005))#, name='weights')\n",
    "        b = tf.get_variable('biases', [out_chans], initializer=tf.constant_initializer(0.0), regularizer=None, dtype=tf.float32)\n",
    "        conv = tf.nn.conv2d(inp, W, strides=[1, sz, sz, 1], padding='SAME')\n",
    "        conv = tf.contrib.layers.batch_norm(conv, scope=scope) # train?\n",
    "        conv = tf.nn.relu(conv+b)        \n",
    "    return conv\n",
    "\n",
    "def pooling(inp, name, factor=2):\n",
    "    pool = tf.nn.max_pool(inp, ksize=[1, factor, factor, 1], strides=[1, factor, factor, 1], padding='SAME', name=name)\n",
    "    return pool"
   ]
  },
  {
   "cell_type": "code",
   "execution_count": 6,
   "metadata": {
    "collapsed": false
   },
   "outputs": [],
   "source": [
    "with tf.name_scope('Input'):\n",
    "    X = tf.placeholder(tf.float32, shape=([None, len_edge, len_edge, num_channels]))#bs\n",
    "    if num_channels == 2:\n",
    "        X_show = tf.concat([X, tf.expand_dims(X[:, :, :, 1], 3)], axis=3)\n",
    "        tf.summary.image('input_images', X_show, max_outputs=tb_imgs_to_display)\n",
    "    elif num_channels > 3:\n",
    "        tf.summary.image('input_images', X[:, :, :, 0:3], max_outputs=tb_imgs_to_display)\n",
    "    else:\n",
    "        tf.summary.image('input_images', X, max_outputs=tb_imgs_to_display)\n",
    "\n",
    "dw_h_convs = OrderedDict()\n",
    "up_h_convs = OrderedDict()\n",
    "\n",
    "#Build the network\n",
    "X_go = X\n",
    "\n",
    "X_go = convolute(X, layer_name('conv'), 3, 64, sz = 1)\n",
    "dw_h_convs[0] = convolute(X_go,layer_name('conv'),3,64,sz = 1)\n",
    "X_go = pooling(dw_h_convs[0], 'pool1')\n",
    "\n",
    "dw_h_convs[1] = convolute(X_go,layer_name('conv'),3,128)\n",
    "dw_h_convs[1] = convolute(dw_h_convs[1],layer_name('conv'),3,128)\n",
    "dw_h_convs[2] = pooling(dw_h_convs[1], 'pool2')\n",
    "\n",
    "dw_h_convs[2] = convolute(dw_h_convs[2],layer_name('conv'),3,256)\n",
    "dw_h_convs[2] = convolute(dw_h_convs[2],layer_name('conv'),3,256)\n",
    "dw_h_convs[3] = pooling(dw_h_convs[2], 'pool3')\n",
    "\n",
    "dw_h_convs[3] = convolute(dw_h_convs[3],layer_name('conv'),3,512)\n",
    "dw_h_convs[3] = convolute(dw_h_convs[3],layer_name('conv'),3,512)\n",
    "dw_h_convs[4] = pooling(dw_h_convs[3], 'pool4')\n",
    "\n",
    "#dw_h_convs[4] = conv_layer(dw_h_convs[4],layer_name('conv'),layer_name('conv'),3,1024) \n",
    "#dw_h_convs[4] = conv_layer(dw_h_convs[4],layer_name('conv'),layer_name('conv'),3,512) \n",
    "        \n",
    "#   dw_h_convs[0] = tf.image.resize_images(dw_h_convs[4], [ dw_h_convs[4].get_shape().as_list()[1]*2, \n",
    "#                                                            dw_h_convs[4].get_shape().as_list()[2]*2] )  \n"
   ]
  },
  {
   "cell_type": "code",
   "execution_count": 7,
   "metadata": {
    "collapsed": false
   },
   "outputs": [],
   "source": [
    "flattened = tf.reshape(dw_h_convs[4], [-1, 4 * 4 * 512])"
   ]
  },
  {
   "cell_type": "code",
   "execution_count": 8,
   "metadata": {
    "collapsed": false
   },
   "outputs": [],
   "source": [
    "W_enc = tf.get_variable('W_enc', [4 * 4 * 512, h_dim], initializer=tf.contrib.layers.xavier_initializer())\n",
    "b_enc = tf.get_variable('b_enc', [h_dim], initializer=tf.constant_initializer(0.0), regularizer=None, dtype=tf.float32)\n",
    "\n",
    "full1 = tf.nn.dropout(tf.nn.relu(tf.contrib.layers.batch_norm(tf.matmul(flattened, W_enc) + b_enc)), 0.5)\n",
    "\n"
   ]
  },
  {
   "cell_type": "code",
   "execution_count": 9,
   "metadata": {
    "collapsed": false
   },
   "outputs": [],
   "source": [
    "W_mu = tf.get_variable('W_mu', [h_dim, latent_dim], initializer=tf.contrib.layers.xavier_initializer())\n",
    "b_mu = tf.get_variable('b_mu', [latent_dim], initializer=tf.constant_initializer(0.0), regularizer=None, dtype=tf.float32)\n",
    "#b_mu = bias_variable([latent_dim], 'b_mu')\n",
    "mu = tf.matmul(full1, W_mu) + b_mu"
   ]
  },
  {
   "cell_type": "code",
   "execution_count": 10,
   "metadata": {
    "collapsed": true
   },
   "outputs": [],
   "source": [
    "W_logstd = tf.get_variable('W_logstd', [h_dim, latent_dim], initializer=tf.contrib.layers.xavier_initializer())\n",
    "b_logstd = tf.get_variable('b_logstd', [latent_dim], initializer=tf.constant_initializer(0.0), regularizer=None, dtype=tf.float32)\n",
    "logstd = tf.matmul(full1, W_logstd) + b_logstd"
   ]
  },
  {
   "cell_type": "code",
   "execution_count": 11,
   "metadata": {
    "collapsed": true
   },
   "outputs": [],
   "source": [
    "noise = tf.random_normal([1, latent_dim])\n",
    "z = mu + tf.multiply(noise, tf.exp(.5*logstd))"
   ]
  },
  {
   "cell_type": "code",
   "execution_count": 12,
   "metadata": {
    "collapsed": true
   },
   "outputs": [],
   "source": [
    "W_dec = tf.get_variable('W_dec', [latent_dim, h_dim], initializer=tf.contrib.layers.xavier_initializer())\n",
    "b_dec = tf.get_variable('b_dec', [h_dim], initializer=tf.constant_initializer(0.0), regularizer=None, dtype=tf.float32)"
   ]
  },
  {
   "cell_type": "code",
   "execution_count": 13,
   "metadata": {
    "collapsed": true
   },
   "outputs": [],
   "source": [
    "full2 = tf.nn.dropout(tf.nn.relu(tf.contrib.layers.batch_norm(tf.matmul(z, W_dec) + b_dec)), 0.5)"
   ]
  },
  {
   "cell_type": "code",
   "execution_count": 14,
   "metadata": {
    "collapsed": true
   },
   "outputs": [],
   "source": [
    "W_dec2 = tf.get_variable('W_dec2', [h_dim, 4 * 4 * 512], initializer=tf.contrib.layers.xavier_initializer())\n",
    "b_dec2 = tf.get_variable('b_dec2', [4 * 4 * 512], initializer=tf.constant_initializer(0.0), regularizer=None, dtype=tf.float32)"
   ]
  },
  {
   "cell_type": "code",
   "execution_count": 15,
   "metadata": {
    "collapsed": true
   },
   "outputs": [],
   "source": [
    "full3 = tf.nn.relu(tf.contrib.layers.batch_norm(tf.matmul(full2, W_dec2) + b_dec2))"
   ]
  },
  {
   "cell_type": "code",
   "execution_count": 16,
   "metadata": {
    "collapsed": true
   },
   "outputs": [],
   "source": [
    "reshaped = tf.reshape(full3, [-1, 4, 4, 512])"
   ]
  },
  {
   "cell_type": "code",
   "execution_count": 17,
   "metadata": {
    "collapsed": false
   },
   "outputs": [],
   "source": [
    "up_h_convs[0] = tf.image.resize_images(reshaped, [ reshaped.get_shape().as_list()[1]*2, \n",
    "                                                            reshaped.get_shape().as_list()[2]*2] )"
   ]
  },
  {
   "cell_type": "code",
   "execution_count": 18,
   "metadata": {
    "collapsed": true
   },
   "outputs": [],
   "source": [
    "up_h_convs[0] = tf.concat([up_h_convs[0], dw_h_convs[3] ],3 ) "
   ]
  },
  {
   "cell_type": "code",
   "execution_count": 19,
   "metadata": {
    "collapsed": true
   },
   "outputs": [],
   "source": [
    "up_h_convs[0] = convolute(up_h_convs[0], layer_name('conv'), 3, 512)\n",
    "up_h_convs[0] = convolute(up_h_convs[0], layer_name('conv'), 3, 256)\n",
    "up_h_convs[1] = tf.image.resize_images(up_h_convs[0], [ up_h_convs[0].get_shape().as_list()[1]*2, \n",
    "                                                            up_h_convs[0].get_shape().as_list()[2]*2] ) "
   ]
  },
  {
   "cell_type": "code",
   "execution_count": 20,
   "metadata": {
    "collapsed": true
   },
   "outputs": [],
   "source": [
    "up_h_convs[1] = tf.concat([up_h_convs[1], dw_h_convs[2] ],3 ) \n",
    "up_h_convs[1] = convolute(up_h_convs[1], layer_name('conv'), 3, 256)\n",
    "up_h_convs[1] = convolute(up_h_convs[1], layer_name('conv'), 3, 128)\n",
    "up_h_convs[2] = tf.image.resize_images(up_h_convs[1], [ up_h_convs[1].get_shape().as_list()[1]*2, \n",
    "                                                            up_h_convs[1].get_shape().as_list()[2]*2] ) "
   ]
  },
  {
   "cell_type": "code",
   "execution_count": 21,
   "metadata": {
    "collapsed": true
   },
   "outputs": [],
   "source": [
    "up_h_convs[2] = tf.concat([up_h_convs[2], dw_h_convs[1] ],3 ) \n",
    "up_h_convs[2] = convolute(up_h_convs[2], layer_name('conv'), 3, 128)\n",
    "up_h_convs[2] = convolute(up_h_convs[2], layer_name('conv'), 3, 64)\n",
    "up_h_convs[3] = tf.image.resize_images(up_h_convs[2], [ up_h_convs[2].get_shape().as_list()[2]*2, \n",
    "                                                            up_h_convs[2].get_shape().as_list()[2]*2] ) "
   ]
  },
  {
   "cell_type": "code",
   "execution_count": 22,
   "metadata": {
    "collapsed": true
   },
   "outputs": [],
   "source": [
    "up_h_convs[3] = tf.concat([up_h_convs[3], dw_h_convs[0] ],3 ) \n",
    "up_h_convs[3] = convolute(up_h_convs[3], layer_name('conv'), 3, 64)\n",
    "up_h_convs[3] = convolute(up_h_convs[3], layer_name('conv'), 3, 64)"
   ]
  },
  {
   "cell_type": "code",
   "execution_count": 23,
   "metadata": {
    "collapsed": false,
    "scrolled": true
   },
   "outputs": [],
   "source": [
    "W_rec = tf.get_variable('weights_rec', [1, 1, 64, 4], initializer=tf.contrib.layers.xavier_initializer_conv2d(), regularizer=False)#, name='weights')\n",
    "b_rec = tf.get_variable('biases_rec', [4], initializer=tf.constant_initializer(0.0), regularizer=None, dtype=tf.float32)\n",
    "reconstruction = tf.nn.sigmoid(tf.nn.conv2d(up_h_convs[3], W_rec, strides=[1, 1, 1, 1], padding='SAME') + b_rec)"
   ]
  },
  {
   "cell_type": "code",
   "execution_count": 24,
   "metadata": {
    "collapsed": false
   },
   "outputs": [],
   "source": [
    "X_flat = tf.contrib.layers.flatten(X)\n",
    "R_flat = tf.contrib.layers.flatten(reconstruction)\n",
    "log_likelihood = tf.reduce_sum(X_flat*tf.log(R_flat + 1e-9)+(1 - X_flat)*tf.log(1 - R_flat + 1e-9), reduction_indices=1)\n",
    "\n",
    "\n",
    "if multires_filters > 0:\n",
    "    X2_flat = tf.contrib.layers.flatten(X2)\n",
    "    R2_flat = tf.contrib.layers.flatten(reconstruction_low)\n",
    "    \n",
    "    log_likelihood2 = tf.reduce_sum(X2_flat*tf.log(R2_flat + 1e-9)+(1 - X2_flat)*tf.log(1 - R2_flat + 1e-9), reduction_indices=1)\n",
    "    log_likelihood = log_likelihood + log_likelihood2\n",
    "\n",
    "#log_likelihood = tf.reduce_sum(X_flat*tf.log(R_flat + 1e-9)+(1 - X_flat)*tf.log(1 - R_flat + 1e-9), reduction_indices=1)\n",
    "tf.summary.scalar('LogLike', tf.reduce_mean(log_likelihood))\n",
    "\n",
    "KL_term = -.5*tf.reduce_sum(1 + 2*logstd - tf.pow(mu,2) - tf.exp(2*logstd), reduction_indices=1)\n",
    "tf.summary.scalar('KL', tf.reduce_mean(KL_term))\n",
    "\n",
    "variational_lower_bound = tf.reduce_mean(log_likelihood - KL_term)\n",
    "tf.summary.scalar('cost', variational_lower_bound)\n",
    "\n",
    "validator = tf.cast(variational_lower_bound, tf.int32) # alibi\n",
    "optimizer = tf.train.AdamOptimizer(1e-4).minimize(-variational_lower_bound)"
   ]
  },
  {
   "cell_type": "code",
   "execution_count": 25,
   "metadata": {
    "collapsed": false
   },
   "outputs": [],
   "source": [
    "merged_summary = tf.summary.merge_all()\n",
    "init = tf.global_variables_initializer()\n",
    "sess = tf.InteractiveSession()\n",
    "sess.run(init)\n",
    "saver = tf.train.Saver()\n",
    "train_writer = tf.summary.FileWriter(trainlogpath)\n",
    "valid_writer = tf.summary.FileWriter(testlogpath)\n",
    "train_writer.add_graph(sess.graph)"
   ]
  },
  {
   "cell_type": "code",
   "execution_count": 26,
   "metadata": {
    "collapsed": false
   },
   "outputs": [],
   "source": [
    "X_all = sample_1s2(fn0, train_size, tilesize=len_edge, normalize=True, flattened=False)\n",
    "x_valid = sample_1s2(fn0, valid_size, tilesize=len_edge, normalize=True, flattened=False)"
   ]
  },
  {
   "cell_type": "code",
   "execution_count": null,
   "metadata": {
    "collapsed": true
   },
   "outputs": [],
   "source": [
    "step = bs\n",
    "ep = 0\n",
    "for ep in range(epochs):\n",
    "    x_batch = X_all[step-bs:step]\n",
    "#    x1_batch = X1_all[step-bs:step]\n",
    "#    x2_batch = X2_all[step-bs:step]\n",
    "    \n",
    "    if (ep%recording_interval == 0):\n",
    "        vvv, s = sess.run([validator, merged_summary], feed_dict={X: x_valid})\n",
    "#        vvv, s = sess.run([validator, merged_summary], feed_dict={X: X1_valid, X2: X2_valid})\n",
    "        valid_writer.add_summary(s, ep)\n",
    "        \n",
    "    _, s = sess.run([optimizer, merged_summary], feed_dict={X: x_batch})\n",
    "#    _, s = sess.run([optimizer, merged_summary], feed_dict={X: x1_batch, X2: x2_batch})\n",
    "    \n",
    "    if (ep%recording_interval == 0):\n",
    "        train_writer.add_summary(s, ep)\n",
    "        \n",
    "    step += bs\n",
    "    \n",
    "    if step == train_size:\n",
    "        step = bs"
   ]
  }
 ],
 "metadata": {
  "kernelspec": {
   "display_name": "Python 2",
   "language": "python",
   "name": "python2"
  },
  "language_info": {
   "codemirror_mode": {
    "name": "ipython",
    "version": 2
   },
   "file_extension": ".py",
   "mimetype": "text/x-python",
   "name": "python",
   "nbconvert_exporter": "python",
   "pygments_lexer": "ipython2",
   "version": "2.7.13"
  }
 },
 "nbformat": 4,
 "nbformat_minor": 2
}
